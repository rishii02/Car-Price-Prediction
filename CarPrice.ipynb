{
 "cells": [
  {
   "cell_type": "code",
   "execution_count": 16,
   "id": "e2f6123d",
   "metadata": {},
   "outputs": [],
   "source": [
    "import numpy as np\n",
    "import pandas as pd\n",
    "import matplotlib.pyplot as plt\n",
    "import os\n",
    "import warnings\n",
    "warnings.filterwarnings('ignore')"
   ]
  },
  {
   "cell_type": "code",
   "execution_count": 8,
   "id": "2556238a",
   "metadata": {},
   "outputs": [
    {
     "data": {
      "text/plain": [
       "'C:\\\\Users\\\\Rishi'"
      ]
     },
     "execution_count": 8,
     "metadata": {},
     "output_type": "execute_result"
    }
   ],
   "source": [
    "os.getcwd()"
   ]
  },
  {
   "cell_type": "code",
   "execution_count": 10,
   "id": "95c241d8",
   "metadata": {},
   "outputs": [],
   "source": [
    "os.chdir('C:\\\\Users\\\\Rishi\\\\OneDrive\\\\Desktop\\\\Data Sci\\\\Acmegrade Data Science July_23 Files\\\\Jul 23 DS Day 16\\\\Projects\\\\PRJ Car Price Prediction')"
   ]
  },
  {
   "cell_type": "code",
   "execution_count": 11,
   "id": "132eaee3",
   "metadata": {},
   "outputs": [
    {
     "data": {
      "text/plain": [
       "'C:\\\\Users\\\\Rishi\\\\OneDrive\\\\Desktop\\\\Data Sci\\\\Acmegrade Data Science July_23 Files\\\\Jul 23 DS Day 16\\\\Projects\\\\PRJ Car Price Prediction'"
      ]
     },
     "execution_count": 11,
     "metadata": {},
     "output_type": "execute_result"
    }
   ],
   "source": [
    "os.getcwd()"
   ]
  },
  {
   "cell_type": "code",
   "execution_count": 12,
   "id": "b61a896f",
   "metadata": {},
   "outputs": [],
   "source": [
    "df=pd.read_csv(\"audi.csv\")"
   ]
  },
  {
   "cell_type": "code",
   "execution_count": 13,
   "id": "f591f668",
   "metadata": {},
   "outputs": [
    {
     "data": {
      "text/html": [
       "<div>\n",
       "<style scoped>\n",
       "    .dataframe tbody tr th:only-of-type {\n",
       "        vertical-align: middle;\n",
       "    }\n",
       "\n",
       "    .dataframe tbody tr th {\n",
       "        vertical-align: top;\n",
       "    }\n",
       "\n",
       "    .dataframe thead th {\n",
       "        text-align: right;\n",
       "    }\n",
       "</style>\n",
       "<table border=\"1\" class=\"dataframe\">\n",
       "  <thead>\n",
       "    <tr style=\"text-align: right;\">\n",
       "      <th></th>\n",
       "      <th>model</th>\n",
       "      <th>year</th>\n",
       "      <th>price</th>\n",
       "      <th>transmission</th>\n",
       "      <th>mileage</th>\n",
       "      <th>fuelType</th>\n",
       "      <th>tax</th>\n",
       "      <th>mpg</th>\n",
       "      <th>engineSize</th>\n",
       "    </tr>\n",
       "  </thead>\n",
       "  <tbody>\n",
       "    <tr>\n",
       "      <th>0</th>\n",
       "      <td>A1</td>\n",
       "      <td>2017</td>\n",
       "      <td>12500</td>\n",
       "      <td>Manual</td>\n",
       "      <td>15735</td>\n",
       "      <td>Petrol</td>\n",
       "      <td>150</td>\n",
       "      <td>55.4</td>\n",
       "      <td>1.4</td>\n",
       "    </tr>\n",
       "    <tr>\n",
       "      <th>1</th>\n",
       "      <td>A6</td>\n",
       "      <td>2016</td>\n",
       "      <td>16500</td>\n",
       "      <td>Automatic</td>\n",
       "      <td>36203</td>\n",
       "      <td>Diesel</td>\n",
       "      <td>20</td>\n",
       "      <td>64.2</td>\n",
       "      <td>2.0</td>\n",
       "    </tr>\n",
       "    <tr>\n",
       "      <th>2</th>\n",
       "      <td>A1</td>\n",
       "      <td>2016</td>\n",
       "      <td>11000</td>\n",
       "      <td>Manual</td>\n",
       "      <td>29946</td>\n",
       "      <td>Petrol</td>\n",
       "      <td>30</td>\n",
       "      <td>55.4</td>\n",
       "      <td>1.4</td>\n",
       "    </tr>\n",
       "    <tr>\n",
       "      <th>3</th>\n",
       "      <td>A4</td>\n",
       "      <td>2017</td>\n",
       "      <td>16800</td>\n",
       "      <td>Automatic</td>\n",
       "      <td>25952</td>\n",
       "      <td>Diesel</td>\n",
       "      <td>145</td>\n",
       "      <td>67.3</td>\n",
       "      <td>2.0</td>\n",
       "    </tr>\n",
       "    <tr>\n",
       "      <th>4</th>\n",
       "      <td>A3</td>\n",
       "      <td>2019</td>\n",
       "      <td>17300</td>\n",
       "      <td>Manual</td>\n",
       "      <td>1998</td>\n",
       "      <td>Petrol</td>\n",
       "      <td>145</td>\n",
       "      <td>49.6</td>\n",
       "      <td>1.0</td>\n",
       "    </tr>\n",
       "    <tr>\n",
       "      <th>...</th>\n",
       "      <td>...</td>\n",
       "      <td>...</td>\n",
       "      <td>...</td>\n",
       "      <td>...</td>\n",
       "      <td>...</td>\n",
       "      <td>...</td>\n",
       "      <td>...</td>\n",
       "      <td>...</td>\n",
       "      <td>...</td>\n",
       "    </tr>\n",
       "    <tr>\n",
       "      <th>10663</th>\n",
       "      <td>A3</td>\n",
       "      <td>2020</td>\n",
       "      <td>16999</td>\n",
       "      <td>Manual</td>\n",
       "      <td>4018</td>\n",
       "      <td>Petrol</td>\n",
       "      <td>145</td>\n",
       "      <td>49.6</td>\n",
       "      <td>1.0</td>\n",
       "    </tr>\n",
       "    <tr>\n",
       "      <th>10664</th>\n",
       "      <td>A3</td>\n",
       "      <td>2020</td>\n",
       "      <td>16999</td>\n",
       "      <td>Manual</td>\n",
       "      <td>1978</td>\n",
       "      <td>Petrol</td>\n",
       "      <td>150</td>\n",
       "      <td>49.6</td>\n",
       "      <td>1.0</td>\n",
       "    </tr>\n",
       "    <tr>\n",
       "      <th>10665</th>\n",
       "      <td>A3</td>\n",
       "      <td>2020</td>\n",
       "      <td>17199</td>\n",
       "      <td>Manual</td>\n",
       "      <td>609</td>\n",
       "      <td>Petrol</td>\n",
       "      <td>150</td>\n",
       "      <td>49.6</td>\n",
       "      <td>1.0</td>\n",
       "    </tr>\n",
       "    <tr>\n",
       "      <th>10666</th>\n",
       "      <td>Q3</td>\n",
       "      <td>2017</td>\n",
       "      <td>19499</td>\n",
       "      <td>Automatic</td>\n",
       "      <td>8646</td>\n",
       "      <td>Petrol</td>\n",
       "      <td>150</td>\n",
       "      <td>47.9</td>\n",
       "      <td>1.4</td>\n",
       "    </tr>\n",
       "    <tr>\n",
       "      <th>10667</th>\n",
       "      <td>Q3</td>\n",
       "      <td>2016</td>\n",
       "      <td>15999</td>\n",
       "      <td>Manual</td>\n",
       "      <td>11855</td>\n",
       "      <td>Petrol</td>\n",
       "      <td>150</td>\n",
       "      <td>47.9</td>\n",
       "      <td>1.4</td>\n",
       "    </tr>\n",
       "  </tbody>\n",
       "</table>\n",
       "<p>10668 rows × 9 columns</p>\n",
       "</div>"
      ],
      "text/plain": [
       "      model  year  price transmission  mileage fuelType  tax   mpg  engineSize\n",
       "0        A1  2017  12500       Manual    15735   Petrol  150  55.4         1.4\n",
       "1        A6  2016  16500    Automatic    36203   Diesel   20  64.2         2.0\n",
       "2        A1  2016  11000       Manual    29946   Petrol   30  55.4         1.4\n",
       "3        A4  2017  16800    Automatic    25952   Diesel  145  67.3         2.0\n",
       "4        A3  2019  17300       Manual     1998   Petrol  145  49.6         1.0\n",
       "...     ...   ...    ...          ...      ...      ...  ...   ...         ...\n",
       "10663    A3  2020  16999       Manual     4018   Petrol  145  49.6         1.0\n",
       "10664    A3  2020  16999       Manual     1978   Petrol  150  49.6         1.0\n",
       "10665    A3  2020  17199       Manual      609   Petrol  150  49.6         1.0\n",
       "10666    Q3  2017  19499    Automatic     8646   Petrol  150  47.9         1.4\n",
       "10667    Q3  2016  15999       Manual    11855   Petrol  150  47.9         1.4\n",
       "\n",
       "[10668 rows x 9 columns]"
      ]
     },
     "execution_count": 13,
     "metadata": {},
     "output_type": "execute_result"
    }
   ],
   "source": [
    "df"
   ]
  },
  {
   "cell_type": "code",
   "execution_count": 19,
   "id": "967ed7eb",
   "metadata": {},
   "outputs": [
    {
     "data": {
      "text/plain": [
       "10668"
      ]
     },
     "execution_count": 19,
     "metadata": {},
     "output_type": "execute_result"
    }
   ],
   "source": [
    "len(df)"
   ]
  },
  {
   "cell_type": "code",
   "execution_count": 20,
   "id": "3dcc82e7",
   "metadata": {},
   "outputs": [
    {
     "data": {
      "text/plain": [
       "(10668, 9)"
      ]
     },
     "execution_count": 20,
     "metadata": {},
     "output_type": "execute_result"
    }
   ],
   "source": [
    "df.shape"
   ]
  },
  {
   "cell_type": "code",
   "execution_count": 21,
   "id": "1a1c8188",
   "metadata": {},
   "outputs": [
    {
     "data": {
      "text/plain": [
       "model            object\n",
       "year              int64\n",
       "price             int64\n",
       "transmission     object\n",
       "mileage           int64\n",
       "fuelType         object\n",
       "tax               int64\n",
       "mpg             float64\n",
       "engineSize      float64\n",
       "dtype: object"
      ]
     },
     "execution_count": 21,
     "metadata": {},
     "output_type": "execute_result"
    }
   ],
   "source": [
    "df.dtypes"
   ]
  },
  {
   "cell_type": "code",
   "execution_count": 45,
   "id": "6750b1ad",
   "metadata": {},
   "outputs": [
    {
     "data": {
      "text/plain": [
       "<bound method DataFrame.info of       model  year  price transmission  mileage fuelType  tax   mpg  engineSize\n",
       "0        A1  2017  12500       Manual    15735   Petrol  150  55.4         1.4\n",
       "1        A6  2016  16500    Automatic    36203   Diesel   20  64.2         2.0\n",
       "2        A1  2016  11000       Manual    29946   Petrol   30  55.4         1.4\n",
       "3        A4  2017  16800    Automatic    25952   Diesel  145  67.3         2.0\n",
       "4        A3  2019  17300       Manual     1998   Petrol  145  49.6         1.0\n",
       "...     ...   ...    ...          ...      ...      ...  ...   ...         ...\n",
       "10663    A3  2020  16999       Manual     4018   Petrol  145  49.6         1.0\n",
       "10664    A3  2020  16999       Manual     1978   Petrol  150  49.6         1.0\n",
       "10665    A3  2020  17199       Manual      609   Petrol  150  49.6         1.0\n",
       "10666    Q3  2017  19499    Automatic     8646   Petrol  150  47.9         1.4\n",
       "10667    Q3  2016  15999       Manual    11855   Petrol  150  47.9         1.4\n",
       "\n",
       "[10668 rows x 9 columns]>"
      ]
     },
     "execution_count": 45,
     "metadata": {},
     "output_type": "execute_result"
    }
   ],
   "source": [
    "df.info"
   ]
  },
  {
   "cell_type": "code",
   "execution_count": 46,
   "id": "2a244caf",
   "metadata": {},
   "outputs": [
    {
     "data": {
      "text/html": [
       "<div>\n",
       "<style scoped>\n",
       "    .dataframe tbody tr th:only-of-type {\n",
       "        vertical-align: middle;\n",
       "    }\n",
       "\n",
       "    .dataframe tbody tr th {\n",
       "        vertical-align: top;\n",
       "    }\n",
       "\n",
       "    .dataframe thead th {\n",
       "        text-align: right;\n",
       "    }\n",
       "</style>\n",
       "<table border=\"1\" class=\"dataframe\">\n",
       "  <thead>\n",
       "    <tr style=\"text-align: right;\">\n",
       "      <th></th>\n",
       "      <th>year</th>\n",
       "      <th>price</th>\n",
       "      <th>mileage</th>\n",
       "      <th>tax</th>\n",
       "      <th>mpg</th>\n",
       "      <th>engineSize</th>\n",
       "    </tr>\n",
       "  </thead>\n",
       "  <tbody>\n",
       "    <tr>\n",
       "      <th>count</th>\n",
       "      <td>10668.000000</td>\n",
       "      <td>10668.000000</td>\n",
       "      <td>10668.000000</td>\n",
       "      <td>10668.000000</td>\n",
       "      <td>10668.000000</td>\n",
       "      <td>10668.000000</td>\n",
       "    </tr>\n",
       "    <tr>\n",
       "      <th>mean</th>\n",
       "      <td>2017.100675</td>\n",
       "      <td>22896.685039</td>\n",
       "      <td>24827.244001</td>\n",
       "      <td>126.011436</td>\n",
       "      <td>50.770022</td>\n",
       "      <td>1.930709</td>\n",
       "    </tr>\n",
       "    <tr>\n",
       "      <th>std</th>\n",
       "      <td>2.167494</td>\n",
       "      <td>11714.841888</td>\n",
       "      <td>23505.257205</td>\n",
       "      <td>67.170294</td>\n",
       "      <td>12.949782</td>\n",
       "      <td>0.602957</td>\n",
       "    </tr>\n",
       "    <tr>\n",
       "      <th>min</th>\n",
       "      <td>1997.000000</td>\n",
       "      <td>1490.000000</td>\n",
       "      <td>1.000000</td>\n",
       "      <td>0.000000</td>\n",
       "      <td>18.900000</td>\n",
       "      <td>0.000000</td>\n",
       "    </tr>\n",
       "    <tr>\n",
       "      <th>25%</th>\n",
       "      <td>2016.000000</td>\n",
       "      <td>15130.750000</td>\n",
       "      <td>5968.750000</td>\n",
       "      <td>125.000000</td>\n",
       "      <td>40.900000</td>\n",
       "      <td>1.500000</td>\n",
       "    </tr>\n",
       "    <tr>\n",
       "      <th>50%</th>\n",
       "      <td>2017.000000</td>\n",
       "      <td>20200.000000</td>\n",
       "      <td>19000.000000</td>\n",
       "      <td>145.000000</td>\n",
       "      <td>49.600000</td>\n",
       "      <td>2.000000</td>\n",
       "    </tr>\n",
       "    <tr>\n",
       "      <th>75%</th>\n",
       "      <td>2019.000000</td>\n",
       "      <td>27990.000000</td>\n",
       "      <td>36464.500000</td>\n",
       "      <td>145.000000</td>\n",
       "      <td>58.900000</td>\n",
       "      <td>2.000000</td>\n",
       "    </tr>\n",
       "    <tr>\n",
       "      <th>max</th>\n",
       "      <td>2020.000000</td>\n",
       "      <td>145000.000000</td>\n",
       "      <td>323000.000000</td>\n",
       "      <td>580.000000</td>\n",
       "      <td>188.300000</td>\n",
       "      <td>6.300000</td>\n",
       "    </tr>\n",
       "  </tbody>\n",
       "</table>\n",
       "</div>"
      ],
      "text/plain": [
       "               year          price        mileage           tax           mpg  \\\n",
       "count  10668.000000   10668.000000   10668.000000  10668.000000  10668.000000   \n",
       "mean    2017.100675   22896.685039   24827.244001    126.011436     50.770022   \n",
       "std        2.167494   11714.841888   23505.257205     67.170294     12.949782   \n",
       "min     1997.000000    1490.000000       1.000000      0.000000     18.900000   \n",
       "25%     2016.000000   15130.750000    5968.750000    125.000000     40.900000   \n",
       "50%     2017.000000   20200.000000   19000.000000    145.000000     49.600000   \n",
       "75%     2019.000000   27990.000000   36464.500000    145.000000     58.900000   \n",
       "max     2020.000000  145000.000000  323000.000000    580.000000    188.300000   \n",
       "\n",
       "         engineSize  \n",
       "count  10668.000000  \n",
       "mean       1.930709  \n",
       "std        0.602957  \n",
       "min        0.000000  \n",
       "25%        1.500000  \n",
       "50%        2.000000  \n",
       "75%        2.000000  \n",
       "max        6.300000  "
      ]
     },
     "execution_count": 46,
     "metadata": {},
     "output_type": "execute_result"
    }
   ],
   "source": [
    "df.describe()"
   ]
  },
  {
   "cell_type": "code",
   "execution_count": 48,
   "id": "7b4aac20",
   "metadata": {},
   "outputs": [],
   "source": [
    "x=df.iloc[:,[0,1,3,4,5,6,7,8]].values"
   ]
  },
  {
   "cell_type": "code",
   "execution_count": 49,
   "id": "a196b714",
   "metadata": {},
   "outputs": [
    {
     "data": {
      "text/plain": [
       "(10668, 8)"
      ]
     },
     "metadata": {},
     "output_type": "display_data"
    }
   ],
   "source": [
    "display(x.shape)"
   ]
  },
  {
   "cell_type": "code",
   "execution_count": 50,
   "id": "4defc167",
   "metadata": {},
   "outputs": [
    {
     "data": {
      "text/plain": [
       "array([[' A1', 2017, 'Manual', ..., 150, 55.4, 1.4],\n",
       "       [' A6', 2016, 'Automatic', ..., 20, 64.2, 2.0],\n",
       "       [' A1', 2016, 'Manual', ..., 30, 55.4, 1.4],\n",
       "       ...,\n",
       "       [' A3', 2020, 'Manual', ..., 150, 49.6, 1.0],\n",
       "       [' Q3', 2017, 'Automatic', ..., 150, 47.9, 1.4],\n",
       "       [' Q3', 2016, 'Manual', ..., 150, 47.9, 1.4]], dtype=object)"
      ]
     },
     "metadata": {},
     "output_type": "display_data"
    }
   ],
   "source": [
    "display(x)"
   ]
  },
  {
   "cell_type": "code",
   "execution_count": 51,
   "id": "cd0d7aec",
   "metadata": {},
   "outputs": [],
   "source": [
    "y=df.iloc[:,[2]].values"
   ]
  },
  {
   "cell_type": "code",
   "execution_count": 52,
   "id": "3e0f56c6",
   "metadata": {},
   "outputs": [
    {
     "data": {
      "text/plain": [
       "array([[12500],\n",
       "       [16500],\n",
       "       [11000],\n",
       "       ...,\n",
       "       [17199],\n",
       "       [19499],\n",
       "       [15999]], dtype=int64)"
      ]
     },
     "metadata": {},
     "output_type": "display_data"
    }
   ],
   "source": [
    "display(y)"
   ]
  },
  {
   "cell_type": "code",
   "execution_count": 54,
   "id": "a8daf077",
   "metadata": {},
   "outputs": [],
   "source": [
    "from sklearn.preprocessing import LabelEncoder\n",
    "l=LabelEncoder()\n",
    "x[:,0]=l.fit_transform(x[:,0])\n",
    "l1=LabelEncoder()\n",
    "x[:,-4]=l1.fit_transform(x[:,-4])\n"
   ]
  },
  {
   "cell_type": "code",
   "execution_count": 55,
   "id": "d4c0d014",
   "metadata": {},
   "outputs": [
    {
     "data": {
      "text/html": [
       "<div>\n",
       "<style scoped>\n",
       "    .dataframe tbody tr th:only-of-type {\n",
       "        vertical-align: middle;\n",
       "    }\n",
       "\n",
       "    .dataframe tbody tr th {\n",
       "        vertical-align: top;\n",
       "    }\n",
       "\n",
       "    .dataframe thead th {\n",
       "        text-align: right;\n",
       "    }\n",
       "</style>\n",
       "<table border=\"1\" class=\"dataframe\">\n",
       "  <thead>\n",
       "    <tr style=\"text-align: right;\">\n",
       "      <th></th>\n",
       "      <th>0</th>\n",
       "      <th>1</th>\n",
       "      <th>2</th>\n",
       "      <th>3</th>\n",
       "      <th>4</th>\n",
       "      <th>5</th>\n",
       "      <th>6</th>\n",
       "      <th>7</th>\n",
       "    </tr>\n",
       "  </thead>\n",
       "  <tbody>\n",
       "    <tr>\n",
       "      <th>0</th>\n",
       "      <td>0</td>\n",
       "      <td>2017</td>\n",
       "      <td>Manual</td>\n",
       "      <td>15735</td>\n",
       "      <td>2</td>\n",
       "      <td>150</td>\n",
       "      <td>55.4</td>\n",
       "      <td>1.4</td>\n",
       "    </tr>\n",
       "    <tr>\n",
       "      <th>1</th>\n",
       "      <td>5</td>\n",
       "      <td>2016</td>\n",
       "      <td>Automatic</td>\n",
       "      <td>36203</td>\n",
       "      <td>0</td>\n",
       "      <td>20</td>\n",
       "      <td>64.2</td>\n",
       "      <td>2.0</td>\n",
       "    </tr>\n",
       "    <tr>\n",
       "      <th>2</th>\n",
       "      <td>0</td>\n",
       "      <td>2016</td>\n",
       "      <td>Manual</td>\n",
       "      <td>29946</td>\n",
       "      <td>2</td>\n",
       "      <td>30</td>\n",
       "      <td>55.4</td>\n",
       "      <td>1.4</td>\n",
       "    </tr>\n",
       "    <tr>\n",
       "      <th>3</th>\n",
       "      <td>3</td>\n",
       "      <td>2017</td>\n",
       "      <td>Automatic</td>\n",
       "      <td>25952</td>\n",
       "      <td>0</td>\n",
       "      <td>145</td>\n",
       "      <td>67.3</td>\n",
       "      <td>2.0</td>\n",
       "    </tr>\n",
       "    <tr>\n",
       "      <th>4</th>\n",
       "      <td>2</td>\n",
       "      <td>2019</td>\n",
       "      <td>Manual</td>\n",
       "      <td>1998</td>\n",
       "      <td>2</td>\n",
       "      <td>145</td>\n",
       "      <td>49.6</td>\n",
       "      <td>1.0</td>\n",
       "    </tr>\n",
       "    <tr>\n",
       "      <th>...</th>\n",
       "      <td>...</td>\n",
       "      <td>...</td>\n",
       "      <td>...</td>\n",
       "      <td>...</td>\n",
       "      <td>...</td>\n",
       "      <td>...</td>\n",
       "      <td>...</td>\n",
       "      <td>...</td>\n",
       "    </tr>\n",
       "    <tr>\n",
       "      <th>10663</th>\n",
       "      <td>2</td>\n",
       "      <td>2020</td>\n",
       "      <td>Manual</td>\n",
       "      <td>4018</td>\n",
       "      <td>2</td>\n",
       "      <td>145</td>\n",
       "      <td>49.6</td>\n",
       "      <td>1.0</td>\n",
       "    </tr>\n",
       "    <tr>\n",
       "      <th>10664</th>\n",
       "      <td>2</td>\n",
       "      <td>2020</td>\n",
       "      <td>Manual</td>\n",
       "      <td>1978</td>\n",
       "      <td>2</td>\n",
       "      <td>150</td>\n",
       "      <td>49.6</td>\n",
       "      <td>1.0</td>\n",
       "    </tr>\n",
       "    <tr>\n",
       "      <th>10665</th>\n",
       "      <td>2</td>\n",
       "      <td>2020</td>\n",
       "      <td>Manual</td>\n",
       "      <td>609</td>\n",
       "      <td>2</td>\n",
       "      <td>150</td>\n",
       "      <td>49.6</td>\n",
       "      <td>1.0</td>\n",
       "    </tr>\n",
       "    <tr>\n",
       "      <th>10666</th>\n",
       "      <td>9</td>\n",
       "      <td>2017</td>\n",
       "      <td>Automatic</td>\n",
       "      <td>8646</td>\n",
       "      <td>2</td>\n",
       "      <td>150</td>\n",
       "      <td>47.9</td>\n",
       "      <td>1.4</td>\n",
       "    </tr>\n",
       "    <tr>\n",
       "      <th>10667</th>\n",
       "      <td>9</td>\n",
       "      <td>2016</td>\n",
       "      <td>Manual</td>\n",
       "      <td>11855</td>\n",
       "      <td>2</td>\n",
       "      <td>150</td>\n",
       "      <td>47.9</td>\n",
       "      <td>1.4</td>\n",
       "    </tr>\n",
       "  </tbody>\n",
       "</table>\n",
       "<p>10668 rows × 8 columns</p>\n",
       "</div>"
      ],
      "text/plain": [
       "       0     1          2      3  4    5     6    7\n",
       "0      0  2017     Manual  15735  2  150  55.4  1.4\n",
       "1      5  2016  Automatic  36203  0   20  64.2  2.0\n",
       "2      0  2016     Manual  29946  2   30  55.4  1.4\n",
       "3      3  2017  Automatic  25952  0  145  67.3  2.0\n",
       "4      2  2019     Manual   1998  2  145  49.6  1.0\n",
       "...   ..   ...        ...    ... ..  ...   ...  ...\n",
       "10663  2  2020     Manual   4018  2  145  49.6  1.0\n",
       "10664  2  2020     Manual   1978  2  150  49.6  1.0\n",
       "10665  2  2020     Manual    609  2  150  49.6  1.0\n",
       "10666  9  2017  Automatic   8646  2  150  47.9  1.4\n",
       "10667  9  2016     Manual  11855  2  150  47.9  1.4\n",
       "\n",
       "[10668 rows x 8 columns]"
      ]
     },
     "metadata": {},
     "output_type": "display_data"
    }
   ],
   "source": [
    "display(pd.DataFrame(x))"
   ]
  },
  {
   "cell_type": "code",
   "execution_count": 56,
   "id": "fadc3ca0",
   "metadata": {},
   "outputs": [
    {
     "data": {
      "text/plain": [
       "(10668, 10)"
      ]
     },
     "metadata": {},
     "output_type": "display_data"
    },
    {
     "data": {
      "text/html": [
       "<div>\n",
       "<style scoped>\n",
       "    .dataframe tbody tr th:only-of-type {\n",
       "        vertical-align: middle;\n",
       "    }\n",
       "\n",
       "    .dataframe tbody tr th {\n",
       "        vertical-align: top;\n",
       "    }\n",
       "\n",
       "    .dataframe thead th {\n",
       "        text-align: right;\n",
       "    }\n",
       "</style>\n",
       "<table border=\"1\" class=\"dataframe\">\n",
       "  <thead>\n",
       "    <tr style=\"text-align: right;\">\n",
       "      <th></th>\n",
       "      <th>0</th>\n",
       "      <th>1</th>\n",
       "      <th>2</th>\n",
       "      <th>3</th>\n",
       "      <th>4</th>\n",
       "      <th>5</th>\n",
       "      <th>6</th>\n",
       "      <th>7</th>\n",
       "      <th>8</th>\n",
       "      <th>9</th>\n",
       "    </tr>\n",
       "  </thead>\n",
       "  <tbody>\n",
       "    <tr>\n",
       "      <th>0</th>\n",
       "      <td>0.0</td>\n",
       "      <td>1.0</td>\n",
       "      <td>0.0</td>\n",
       "      <td>0</td>\n",
       "      <td>2017</td>\n",
       "      <td>15735</td>\n",
       "      <td>2</td>\n",
       "      <td>150</td>\n",
       "      <td>55.4</td>\n",
       "      <td>1.4</td>\n",
       "    </tr>\n",
       "    <tr>\n",
       "      <th>1</th>\n",
       "      <td>1.0</td>\n",
       "      <td>0.0</td>\n",
       "      <td>0.0</td>\n",
       "      <td>5</td>\n",
       "      <td>2016</td>\n",
       "      <td>36203</td>\n",
       "      <td>0</td>\n",
       "      <td>20</td>\n",
       "      <td>64.2</td>\n",
       "      <td>2.0</td>\n",
       "    </tr>\n",
       "    <tr>\n",
       "      <th>2</th>\n",
       "      <td>0.0</td>\n",
       "      <td>1.0</td>\n",
       "      <td>0.0</td>\n",
       "      <td>0</td>\n",
       "      <td>2016</td>\n",
       "      <td>29946</td>\n",
       "      <td>2</td>\n",
       "      <td>30</td>\n",
       "      <td>55.4</td>\n",
       "      <td>1.4</td>\n",
       "    </tr>\n",
       "    <tr>\n",
       "      <th>3</th>\n",
       "      <td>1.0</td>\n",
       "      <td>0.0</td>\n",
       "      <td>0.0</td>\n",
       "      <td>3</td>\n",
       "      <td>2017</td>\n",
       "      <td>25952</td>\n",
       "      <td>0</td>\n",
       "      <td>145</td>\n",
       "      <td>67.3</td>\n",
       "      <td>2.0</td>\n",
       "    </tr>\n",
       "    <tr>\n",
       "      <th>4</th>\n",
       "      <td>0.0</td>\n",
       "      <td>1.0</td>\n",
       "      <td>0.0</td>\n",
       "      <td>2</td>\n",
       "      <td>2019</td>\n",
       "      <td>1998</td>\n",
       "      <td>2</td>\n",
       "      <td>145</td>\n",
       "      <td>49.6</td>\n",
       "      <td>1.0</td>\n",
       "    </tr>\n",
       "    <tr>\n",
       "      <th>...</th>\n",
       "      <td>...</td>\n",
       "      <td>...</td>\n",
       "      <td>...</td>\n",
       "      <td>...</td>\n",
       "      <td>...</td>\n",
       "      <td>...</td>\n",
       "      <td>...</td>\n",
       "      <td>...</td>\n",
       "      <td>...</td>\n",
       "      <td>...</td>\n",
       "    </tr>\n",
       "    <tr>\n",
       "      <th>10663</th>\n",
       "      <td>0.0</td>\n",
       "      <td>1.0</td>\n",
       "      <td>0.0</td>\n",
       "      <td>2</td>\n",
       "      <td>2020</td>\n",
       "      <td>4018</td>\n",
       "      <td>2</td>\n",
       "      <td>145</td>\n",
       "      <td>49.6</td>\n",
       "      <td>1.0</td>\n",
       "    </tr>\n",
       "    <tr>\n",
       "      <th>10664</th>\n",
       "      <td>0.0</td>\n",
       "      <td>1.0</td>\n",
       "      <td>0.0</td>\n",
       "      <td>2</td>\n",
       "      <td>2020</td>\n",
       "      <td>1978</td>\n",
       "      <td>2</td>\n",
       "      <td>150</td>\n",
       "      <td>49.6</td>\n",
       "      <td>1.0</td>\n",
       "    </tr>\n",
       "    <tr>\n",
       "      <th>10665</th>\n",
       "      <td>0.0</td>\n",
       "      <td>1.0</td>\n",
       "      <td>0.0</td>\n",
       "      <td>2</td>\n",
       "      <td>2020</td>\n",
       "      <td>609</td>\n",
       "      <td>2</td>\n",
       "      <td>150</td>\n",
       "      <td>49.6</td>\n",
       "      <td>1.0</td>\n",
       "    </tr>\n",
       "    <tr>\n",
       "      <th>10666</th>\n",
       "      <td>1.0</td>\n",
       "      <td>0.0</td>\n",
       "      <td>0.0</td>\n",
       "      <td>9</td>\n",
       "      <td>2017</td>\n",
       "      <td>8646</td>\n",
       "      <td>2</td>\n",
       "      <td>150</td>\n",
       "      <td>47.9</td>\n",
       "      <td>1.4</td>\n",
       "    </tr>\n",
       "    <tr>\n",
       "      <th>10667</th>\n",
       "      <td>0.0</td>\n",
       "      <td>1.0</td>\n",
       "      <td>0.0</td>\n",
       "      <td>9</td>\n",
       "      <td>2016</td>\n",
       "      <td>11855</td>\n",
       "      <td>2</td>\n",
       "      <td>150</td>\n",
       "      <td>47.9</td>\n",
       "      <td>1.4</td>\n",
       "    </tr>\n",
       "  </tbody>\n",
       "</table>\n",
       "<p>10668 rows × 10 columns</p>\n",
       "</div>"
      ],
      "text/plain": [
       "         0    1    2  3     4      5  6    7     8    9\n",
       "0      0.0  1.0  0.0  0  2017  15735  2  150  55.4  1.4\n",
       "1      1.0  0.0  0.0  5  2016  36203  0   20  64.2  2.0\n",
       "2      0.0  1.0  0.0  0  2016  29946  2   30  55.4  1.4\n",
       "3      1.0  0.0  0.0  3  2017  25952  0  145  67.3  2.0\n",
       "4      0.0  1.0  0.0  2  2019   1998  2  145  49.6  1.0\n",
       "...    ...  ...  ... ..   ...    ... ..  ...   ...  ...\n",
       "10663  0.0  1.0  0.0  2  2020   4018  2  145  49.6  1.0\n",
       "10664  0.0  1.0  0.0  2  2020   1978  2  150  49.6  1.0\n",
       "10665  0.0  1.0  0.0  2  2020    609  2  150  49.6  1.0\n",
       "10666  1.0  0.0  0.0  9  2017   8646  2  150  47.9  1.4\n",
       "10667  0.0  1.0  0.0  9  2016  11855  2  150  47.9  1.4\n",
       "\n",
       "[10668 rows x 10 columns]"
      ]
     },
     "metadata": {},
     "output_type": "display_data"
    }
   ],
   "source": [
    "from sklearn.preprocessing import OneHotEncoder\n",
    "from sklearn.compose import ColumnTransformer\n",
    "ct = ColumnTransformer(transformers = [('encoder',OneHotEncoder(),[2])],remainder='passthrough')\n",
    "x = ct.fit_transform(x)\n",
    "display (x.shape)\n",
    "display (pd.DataFrame(x))\n"
   ]
  },
  {
   "cell_type": "code",
   "execution_count": 59,
   "id": "83d99d8d",
   "metadata": {},
   "outputs": [
    {
     "data": {
      "text/html": [
       "<div>\n",
       "<style scoped>\n",
       "    .dataframe tbody tr th:only-of-type {\n",
       "        vertical-align: middle;\n",
       "    }\n",
       "\n",
       "    .dataframe tbody tr th {\n",
       "        vertical-align: top;\n",
       "    }\n",
       "\n",
       "    .dataframe thead th {\n",
       "        text-align: right;\n",
       "    }\n",
       "</style>\n",
       "<table border=\"1\" class=\"dataframe\">\n",
       "  <thead>\n",
       "    <tr style=\"text-align: right;\">\n",
       "      <th></th>\n",
       "      <th>0</th>\n",
       "      <th>1</th>\n",
       "      <th>2</th>\n",
       "      <th>3</th>\n",
       "      <th>4</th>\n",
       "      <th>5</th>\n",
       "      <th>6</th>\n",
       "      <th>7</th>\n",
       "      <th>8</th>\n",
       "      <th>9</th>\n",
       "    </tr>\n",
       "  </thead>\n",
       "  <tbody>\n",
       "    <tr>\n",
       "      <th>0</th>\n",
       "      <td>-0.583268</td>\n",
       "      <td>1.200728</td>\n",
       "      <td>-0.712333</td>\n",
       "      <td>-1.123544</td>\n",
       "      <td>-0.046450</td>\n",
       "      <td>-0.386836</td>\n",
       "      <td>1.050783</td>\n",
       "      <td>0.357147</td>\n",
       "      <td>0.357550</td>\n",
       "      <td>-0.880218</td>\n",
       "    </tr>\n",
       "    <tr>\n",
       "      <th>1</th>\n",
       "      <td>1.714479</td>\n",
       "      <td>-0.832828</td>\n",
       "      <td>-0.712333</td>\n",
       "      <td>-0.160831</td>\n",
       "      <td>-0.507834</td>\n",
       "      <td>0.483989</td>\n",
       "      <td>-0.954181</td>\n",
       "      <td>-1.578323</td>\n",
       "      <td>1.037130</td>\n",
       "      <td>0.114925</td>\n",
       "    </tr>\n",
       "    <tr>\n",
       "      <th>2</th>\n",
       "      <td>-0.583268</td>\n",
       "      <td>1.200728</td>\n",
       "      <td>-0.712333</td>\n",
       "      <td>-1.123544</td>\n",
       "      <td>-0.507834</td>\n",
       "      <td>0.217781</td>\n",
       "      <td>1.050783</td>\n",
       "      <td>-1.429440</td>\n",
       "      <td>0.357550</td>\n",
       "      <td>-0.880218</td>\n",
       "    </tr>\n",
       "    <tr>\n",
       "      <th>3</th>\n",
       "      <td>1.714479</td>\n",
       "      <td>-0.832828</td>\n",
       "      <td>-0.712333</td>\n",
       "      <td>-0.545916</td>\n",
       "      <td>-0.046450</td>\n",
       "      <td>0.047853</td>\n",
       "      <td>-0.954181</td>\n",
       "      <td>0.282706</td>\n",
       "      <td>1.276528</td>\n",
       "      <td>0.114925</td>\n",
       "    </tr>\n",
       "    <tr>\n",
       "      <th>4</th>\n",
       "      <td>-0.583268</td>\n",
       "      <td>1.200728</td>\n",
       "      <td>-0.712333</td>\n",
       "      <td>-0.738459</td>\n",
       "      <td>0.876318</td>\n",
       "      <td>-0.971285</td>\n",
       "      <td>1.050783</td>\n",
       "      <td>0.282706</td>\n",
       "      <td>-0.090355</td>\n",
       "      <td>-1.543647</td>\n",
       "    </tr>\n",
       "    <tr>\n",
       "      <th>...</th>\n",
       "      <td>...</td>\n",
       "      <td>...</td>\n",
       "      <td>...</td>\n",
       "      <td>...</td>\n",
       "      <td>...</td>\n",
       "      <td>...</td>\n",
       "      <td>...</td>\n",
       "      <td>...</td>\n",
       "      <td>...</td>\n",
       "      <td>...</td>\n",
       "    </tr>\n",
       "    <tr>\n",
       "      <th>10663</th>\n",
       "      <td>-0.583268</td>\n",
       "      <td>1.200728</td>\n",
       "      <td>-0.712333</td>\n",
       "      <td>-0.738459</td>\n",
       "      <td>1.337702</td>\n",
       "      <td>-0.885343</td>\n",
       "      <td>1.050783</td>\n",
       "      <td>0.282706</td>\n",
       "      <td>-0.090355</td>\n",
       "      <td>-1.543647</td>\n",
       "    </tr>\n",
       "    <tr>\n",
       "      <th>10664</th>\n",
       "      <td>-0.583268</td>\n",
       "      <td>1.200728</td>\n",
       "      <td>-0.712333</td>\n",
       "      <td>-0.738459</td>\n",
       "      <td>1.337702</td>\n",
       "      <td>-0.972136</td>\n",
       "      <td>1.050783</td>\n",
       "      <td>0.357147</td>\n",
       "      <td>-0.090355</td>\n",
       "      <td>-1.543647</td>\n",
       "    </tr>\n",
       "    <tr>\n",
       "      <th>10665</th>\n",
       "      <td>-0.583268</td>\n",
       "      <td>1.200728</td>\n",
       "      <td>-0.712333</td>\n",
       "      <td>-0.738459</td>\n",
       "      <td>1.337702</td>\n",
       "      <td>-1.030381</td>\n",
       "      <td>1.050783</td>\n",
       "      <td>0.357147</td>\n",
       "      <td>-0.090355</td>\n",
       "      <td>-1.543647</td>\n",
       "    </tr>\n",
       "    <tr>\n",
       "      <th>10666</th>\n",
       "      <td>1.714479</td>\n",
       "      <td>-0.832828</td>\n",
       "      <td>-0.712333</td>\n",
       "      <td>0.609339</td>\n",
       "      <td>-0.046450</td>\n",
       "      <td>-0.688442</td>\n",
       "      <td>1.050783</td>\n",
       "      <td>0.357147</td>\n",
       "      <td>-0.221637</td>\n",
       "      <td>-0.880218</td>\n",
       "    </tr>\n",
       "    <tr>\n",
       "      <th>10667</th>\n",
       "      <td>-0.583268</td>\n",
       "      <td>1.200728</td>\n",
       "      <td>-0.712333</td>\n",
       "      <td>0.609339</td>\n",
       "      <td>-0.507834</td>\n",
       "      <td>-0.551913</td>\n",
       "      <td>1.050783</td>\n",
       "      <td>0.357147</td>\n",
       "      <td>-0.221637</td>\n",
       "      <td>-0.880218</td>\n",
       "    </tr>\n",
       "  </tbody>\n",
       "</table>\n",
       "<p>10668 rows × 10 columns</p>\n",
       "</div>"
      ],
      "text/plain": [
       "              0         1         2         3         4         5         6  \\\n",
       "0     -0.583268  1.200728 -0.712333 -1.123544 -0.046450 -0.386836  1.050783   \n",
       "1      1.714479 -0.832828 -0.712333 -0.160831 -0.507834  0.483989 -0.954181   \n",
       "2     -0.583268  1.200728 -0.712333 -1.123544 -0.507834  0.217781  1.050783   \n",
       "3      1.714479 -0.832828 -0.712333 -0.545916 -0.046450  0.047853 -0.954181   \n",
       "4     -0.583268  1.200728 -0.712333 -0.738459  0.876318 -0.971285  1.050783   \n",
       "...         ...       ...       ...       ...       ...       ...       ...   \n",
       "10663 -0.583268  1.200728 -0.712333 -0.738459  1.337702 -0.885343  1.050783   \n",
       "10664 -0.583268  1.200728 -0.712333 -0.738459  1.337702 -0.972136  1.050783   \n",
       "10665 -0.583268  1.200728 -0.712333 -0.738459  1.337702 -1.030381  1.050783   \n",
       "10666  1.714479 -0.832828 -0.712333  0.609339 -0.046450 -0.688442  1.050783   \n",
       "10667 -0.583268  1.200728 -0.712333  0.609339 -0.507834 -0.551913  1.050783   \n",
       "\n",
       "              7         8         9  \n",
       "0      0.357147  0.357550 -0.880218  \n",
       "1     -1.578323  1.037130  0.114925  \n",
       "2     -1.429440  0.357550 -0.880218  \n",
       "3      0.282706  1.276528  0.114925  \n",
       "4      0.282706 -0.090355 -1.543647  \n",
       "...         ...       ...       ...  \n",
       "10663  0.282706 -0.090355 -1.543647  \n",
       "10664  0.357147 -0.090355 -1.543647  \n",
       "10665  0.357147 -0.090355 -1.543647  \n",
       "10666  0.357147 -0.221637 -0.880218  \n",
       "10667  0.357147 -0.221637 -0.880218  \n",
       "\n",
       "[10668 rows x 10 columns]"
      ]
     },
     "metadata": {},
     "output_type": "display_data"
    }
   ],
   "source": [
    "from sklearn.preprocessing import StandardScaler\n",
    "sc = StandardScaler()\n",
    "x = sc.fit_transform(x)\n",
    "display (pd.DataFrame(x))\n"
   ]
  },
  {
   "cell_type": "code",
   "execution_count": 60,
   "id": "fd50940a",
   "metadata": {},
   "outputs": [
    {
     "name": "stdout",
     "output_type": "stream",
     "text": [
      "(10668, 10) (10668, 1)\n",
      "(8534, 10) (8534, 1)\n",
      "(2134, 10) (2134, 1)\n"
     ]
    }
   ],
   "source": [
    "from sklearn.model_selection import train_test_split\n",
    "(x_train,x_test,y_train,y_test) = train_test_split(x,y,test_size=0.2,random_state=10)\n",
    "print (x.shape, y.shape)\n",
    "print (x_train.shape, y_train.shape)\n",
    "print (x_test.shape, y_test.shape)\n"
   ]
  },
  {
   "cell_type": "code",
   "execution_count": 105,
   "id": "d1ab0927",
   "metadata": {},
   "outputs": [
    {
     "data": {
      "text/html": [
       "<style>#sk-container-id-4 {color: black;background-color: white;}#sk-container-id-4 pre{padding: 0;}#sk-container-id-4 div.sk-toggleable {background-color: white;}#sk-container-id-4 label.sk-toggleable__label {cursor: pointer;display: block;width: 100%;margin-bottom: 0;padding: 0.3em;box-sizing: border-box;text-align: center;}#sk-container-id-4 label.sk-toggleable__label-arrow:before {content: \"▸\";float: left;margin-right: 0.25em;color: #696969;}#sk-container-id-4 label.sk-toggleable__label-arrow:hover:before {color: black;}#sk-container-id-4 div.sk-estimator:hover label.sk-toggleable__label-arrow:before {color: black;}#sk-container-id-4 div.sk-toggleable__content {max-height: 0;max-width: 0;overflow: hidden;text-align: left;background-color: #f0f8ff;}#sk-container-id-4 div.sk-toggleable__content pre {margin: 0.2em;color: black;border-radius: 0.25em;background-color: #f0f8ff;}#sk-container-id-4 input.sk-toggleable__control:checked~div.sk-toggleable__content {max-height: 200px;max-width: 100%;overflow: auto;}#sk-container-id-4 input.sk-toggleable__control:checked~label.sk-toggleable__label-arrow:before {content: \"▾\";}#sk-container-id-4 div.sk-estimator input.sk-toggleable__control:checked~label.sk-toggleable__label {background-color: #d4ebff;}#sk-container-id-4 div.sk-label input.sk-toggleable__control:checked~label.sk-toggleable__label {background-color: #d4ebff;}#sk-container-id-4 input.sk-hidden--visually {border: 0;clip: rect(1px 1px 1px 1px);clip: rect(1px, 1px, 1px, 1px);height: 1px;margin: -1px;overflow: hidden;padding: 0;position: absolute;width: 1px;}#sk-container-id-4 div.sk-estimator {font-family: monospace;background-color: #f0f8ff;border: 1px dotted black;border-radius: 0.25em;box-sizing: border-box;margin-bottom: 0.5em;}#sk-container-id-4 div.sk-estimator:hover {background-color: #d4ebff;}#sk-container-id-4 div.sk-parallel-item::after {content: \"\";width: 100%;border-bottom: 1px solid gray;flex-grow: 1;}#sk-container-id-4 div.sk-label:hover label.sk-toggleable__label {background-color: #d4ebff;}#sk-container-id-4 div.sk-serial::before {content: \"\";position: absolute;border-left: 1px solid gray;box-sizing: border-box;top: 0;bottom: 0;left: 50%;z-index: 0;}#sk-container-id-4 div.sk-serial {display: flex;flex-direction: column;align-items: center;background-color: white;padding-right: 0.2em;padding-left: 0.2em;position: relative;}#sk-container-id-4 div.sk-item {position: relative;z-index: 1;}#sk-container-id-4 div.sk-parallel {display: flex;align-items: stretch;justify-content: center;background-color: white;position: relative;}#sk-container-id-4 div.sk-item::before, #sk-container-id-4 div.sk-parallel-item::before {content: \"\";position: absolute;border-left: 1px solid gray;box-sizing: border-box;top: 0;bottom: 0;left: 50%;z-index: -1;}#sk-container-id-4 div.sk-parallel-item {display: flex;flex-direction: column;z-index: 1;position: relative;background-color: white;}#sk-container-id-4 div.sk-parallel-item:first-child::after {align-self: flex-end;width: 50%;}#sk-container-id-4 div.sk-parallel-item:last-child::after {align-self: flex-start;width: 50%;}#sk-container-id-4 div.sk-parallel-item:only-child::after {width: 0;}#sk-container-id-4 div.sk-dashed-wrapped {border: 1px dashed gray;margin: 0 0.4em 0.5em 0.4em;box-sizing: border-box;padding-bottom: 0.4em;background-color: white;}#sk-container-id-4 div.sk-label label {font-family: monospace;font-weight: bold;display: inline-block;line-height: 1.2em;}#sk-container-id-4 div.sk-label-container {text-align: center;}#sk-container-id-4 div.sk-container {/* jupyter's `normalize.less` sets `[hidden] { display: none; }` but bootstrap.min.css set `[hidden] { display: none !important; }` so we also need the `!important` here to be able to override the default hidden behavior on the sphinx rendered scikit-learn.org. See: https://github.com/scikit-learn/scikit-learn/issues/21755 */display: inline-block !important;position: relative;}#sk-container-id-4 div.sk-text-repr-fallback {display: none;}</style><div id=\"sk-container-id-4\" class=\"sk-top-container\"><div class=\"sk-text-repr-fallback\"><pre>LinearRegression()</pre><b>In a Jupyter environment, please rerun this cell to show the HTML representation or trust the notebook. <br />On GitHub, the HTML representation is unable to render, please try loading this page with nbviewer.org.</b></div><div class=\"sk-container\" hidden><div class=\"sk-item\"><div class=\"sk-estimator sk-toggleable\"><input class=\"sk-toggleable__control sk-hidden--visually\" id=\"sk-estimator-id-4\" type=\"checkbox\" checked><label for=\"sk-estimator-id-4\" class=\"sk-toggleable__label sk-toggleable__label-arrow\">LinearRegression</label><div class=\"sk-toggleable__content\"><pre>LinearRegression()</pre></div></div></div></div></div>"
      ],
      "text/plain": [
       "LinearRegression()"
      ]
     },
     "execution_count": 105,
     "metadata": {},
     "output_type": "execute_result"
    }
   ],
   "source": [
    "from sklearn.linear_model import LinearRegression\n",
    "lr=LinearRegression()\n",
    "lr.fit(x_train,y_train)"
   ]
  },
  {
   "cell_type": "code",
   "execution_count": 69,
   "id": "ee5c869e",
   "metadata": {},
   "outputs": [
    {
     "data": {
      "text/plain": [
       "array([[28901.73005588],\n",
       "       [13758.73005588],\n",
       "       [30383.23005588],\n",
       "       ...,\n",
       "       [20153.73005588],\n",
       "       [18903.23005588],\n",
       "       [26650.73005588]])"
      ]
     },
     "metadata": {},
     "output_type": "display_data"
    },
    {
     "data": {
      "text/plain": [
       "array([[28990],\n",
       "       [16890],\n",
       "       [26295],\n",
       "       ...,\n",
       "       [18990],\n",
       "       [16500],\n",
       "       [23990]], dtype=int64)"
      ]
     },
     "metadata": {},
     "output_type": "display_data"
    }
   ],
   "source": [
    "y_pred = lr.predict(x_test)\n",
    "display(y_pred)\n",
    "display(y_test)"
   ]
  },
  {
   "cell_type": "code",
   "execution_count": 73,
   "id": "64c55ba8",
   "metadata": {},
   "outputs": [
    {
     "name": "stdout",
     "output_type": "stream",
     "text": [
      "[[28901.73005588 28990.        ]\n",
      " [13758.73005588 16890.        ]\n",
      " [30383.23005588 26295.        ]\n",
      " ...\n",
      " [20153.73005588 18990.        ]\n",
      " [18903.23005588 16500.        ]\n",
      " [26650.73005588 23990.        ]]\n"
     ]
    }
   ],
   "source": [
    "print(np.concatenate((y_pred.reshape(len(y_pred),1),y_test.reshape(len(y_test),1)),1))"
   ]
  },
  {
   "cell_type": "code",
   "execution_count": 81,
   "id": "51bee2c9",
   "metadata": {},
   "outputs": [
    {
     "name": "stdout",
     "output_type": "stream",
     "text": [
      "R2 Score  0.7987144237829706\n",
      "Mean Absolute Error 3292.9652164228855\n"
     ]
    }
   ],
   "source": [
    "from sklearn.metrics import r2_score,mean_absolute_error\n",
    "print('R2 Score ', r2_score(y_test, y_pred))\n",
    "print('Mean Absolute Error', mean_absolute_error(y_test,y_pred))"
   ]
  },
  {
   "cell_type": "code",
   "execution_count": 85,
   "id": "675746ec",
   "metadata": {},
   "outputs": [],
   "source": [
    "lr_pred=lr.predict(x)"
   ]
  },
  {
   "cell_type": "code",
   "execution_count": 86,
   "id": "b8c6912a",
   "metadata": {},
   "outputs": [
    {
     "name": "stdout",
     "output_type": "stream",
     "text": [
      "R2 Score  0.7907372802334496\n",
      "Mean Absolute Error 3345.247773166924\n"
     ]
    }
   ],
   "source": [
    "print('R2 Score ', r2_score(y, lr_pred))\n",
    "print('Mean Absolute Error', mean_absolute_error(y,lr_pred))"
   ]
  },
  {
   "cell_type": "code",
   "execution_count": 98,
   "id": "a07866cc",
   "metadata": {},
   "outputs": [
    {
     "data": {
      "text/html": [
       "<style>#sk-container-id-3 {color: black;background-color: white;}#sk-container-id-3 pre{padding: 0;}#sk-container-id-3 div.sk-toggleable {background-color: white;}#sk-container-id-3 label.sk-toggleable__label {cursor: pointer;display: block;width: 100%;margin-bottom: 0;padding: 0.3em;box-sizing: border-box;text-align: center;}#sk-container-id-3 label.sk-toggleable__label-arrow:before {content: \"▸\";float: left;margin-right: 0.25em;color: #696969;}#sk-container-id-3 label.sk-toggleable__label-arrow:hover:before {color: black;}#sk-container-id-3 div.sk-estimator:hover label.sk-toggleable__label-arrow:before {color: black;}#sk-container-id-3 div.sk-toggleable__content {max-height: 0;max-width: 0;overflow: hidden;text-align: left;background-color: #f0f8ff;}#sk-container-id-3 div.sk-toggleable__content pre {margin: 0.2em;color: black;border-radius: 0.25em;background-color: #f0f8ff;}#sk-container-id-3 input.sk-toggleable__control:checked~div.sk-toggleable__content {max-height: 200px;max-width: 100%;overflow: auto;}#sk-container-id-3 input.sk-toggleable__control:checked~label.sk-toggleable__label-arrow:before {content: \"▾\";}#sk-container-id-3 div.sk-estimator input.sk-toggleable__control:checked~label.sk-toggleable__label {background-color: #d4ebff;}#sk-container-id-3 div.sk-label input.sk-toggleable__control:checked~label.sk-toggleable__label {background-color: #d4ebff;}#sk-container-id-3 input.sk-hidden--visually {border: 0;clip: rect(1px 1px 1px 1px);clip: rect(1px, 1px, 1px, 1px);height: 1px;margin: -1px;overflow: hidden;padding: 0;position: absolute;width: 1px;}#sk-container-id-3 div.sk-estimator {font-family: monospace;background-color: #f0f8ff;border: 1px dotted black;border-radius: 0.25em;box-sizing: border-box;margin-bottom: 0.5em;}#sk-container-id-3 div.sk-estimator:hover {background-color: #d4ebff;}#sk-container-id-3 div.sk-parallel-item::after {content: \"\";width: 100%;border-bottom: 1px solid gray;flex-grow: 1;}#sk-container-id-3 div.sk-label:hover label.sk-toggleable__label {background-color: #d4ebff;}#sk-container-id-3 div.sk-serial::before {content: \"\";position: absolute;border-left: 1px solid gray;box-sizing: border-box;top: 0;bottom: 0;left: 50%;z-index: 0;}#sk-container-id-3 div.sk-serial {display: flex;flex-direction: column;align-items: center;background-color: white;padding-right: 0.2em;padding-left: 0.2em;position: relative;}#sk-container-id-3 div.sk-item {position: relative;z-index: 1;}#sk-container-id-3 div.sk-parallel {display: flex;align-items: stretch;justify-content: center;background-color: white;position: relative;}#sk-container-id-3 div.sk-item::before, #sk-container-id-3 div.sk-parallel-item::before {content: \"\";position: absolute;border-left: 1px solid gray;box-sizing: border-box;top: 0;bottom: 0;left: 50%;z-index: -1;}#sk-container-id-3 div.sk-parallel-item {display: flex;flex-direction: column;z-index: 1;position: relative;background-color: white;}#sk-container-id-3 div.sk-parallel-item:first-child::after {align-self: flex-end;width: 50%;}#sk-container-id-3 div.sk-parallel-item:last-child::after {align-self: flex-start;width: 50%;}#sk-container-id-3 div.sk-parallel-item:only-child::after {width: 0;}#sk-container-id-3 div.sk-dashed-wrapped {border: 1px dashed gray;margin: 0 0.4em 0.5em 0.4em;box-sizing: border-box;padding-bottom: 0.4em;background-color: white;}#sk-container-id-3 div.sk-label label {font-family: monospace;font-weight: bold;display: inline-block;line-height: 1.2em;}#sk-container-id-3 div.sk-label-container {text-align: center;}#sk-container-id-3 div.sk-container {/* jupyter's `normalize.less` sets `[hidden] { display: none; }` but bootstrap.min.css set `[hidden] { display: none !important; }` so we also need the `!important` here to be able to override the default hidden behavior on the sphinx rendered scikit-learn.org. See: https://github.com/scikit-learn/scikit-learn/issues/21755 */display: inline-block !important;position: relative;}#sk-container-id-3 div.sk-text-repr-fallback {display: none;}</style><div id=\"sk-container-id-3\" class=\"sk-top-container\"><div class=\"sk-text-repr-fallback\"><pre>DecisionTreeRegressor(random_state=10)</pre><b>In a Jupyter environment, please rerun this cell to show the HTML representation or trust the notebook. <br />On GitHub, the HTML representation is unable to render, please try loading this page with nbviewer.org.</b></div><div class=\"sk-container\" hidden><div class=\"sk-item\"><div class=\"sk-estimator sk-toggleable\"><input class=\"sk-toggleable__control sk-hidden--visually\" id=\"sk-estimator-id-3\" type=\"checkbox\" checked><label for=\"sk-estimator-id-3\" class=\"sk-toggleable__label sk-toggleable__label-arrow\">DecisionTreeRegressor</label><div class=\"sk-toggleable__content\"><pre>DecisionTreeRegressor(random_state=10)</pre></div></div></div></div></div>"
      ],
      "text/plain": [
       "DecisionTreeRegressor(random_state=10)"
      ]
     },
     "execution_count": 98,
     "metadata": {},
     "output_type": "execute_result"
    }
   ],
   "source": [
    "from sklearn.tree import DecisionTreeRegressor\n",
    "dt=DecisionTreeRegressor(random_state=10)\n",
    "dt.fit(x_train,y_train)"
   ]
  },
  {
   "cell_type": "code",
   "execution_count": 99,
   "id": "24b599cb",
   "metadata": {},
   "outputs": [
    {
     "data": {
      "text/plain": [
       "array([26800., 16690., 27840., ..., 19450., 18575., 24451.])"
      ]
     },
     "metadata": {},
     "output_type": "display_data"
    },
    {
     "data": {
      "text/plain": [
       "array([[28990],\n",
       "       [16890],\n",
       "       [26295],\n",
       "       ...,\n",
       "       [18990],\n",
       "       [16500],\n",
       "       [23990]], dtype=int64)"
      ]
     },
     "metadata": {},
     "output_type": "display_data"
    }
   ],
   "source": [
    "y1_pred = dt.predict(x_test)\n",
    "dt_pred=dt.predict(x)\n",
    "display(y1_pred)\n",
    "display(y_test)"
   ]
  },
  {
   "cell_type": "code",
   "execution_count": 100,
   "id": "5681509e",
   "metadata": {},
   "outputs": [
    {
     "name": "stdout",
     "output_type": "stream",
     "text": [
      "[[26800. 28990.]\n",
      " [16690. 16890.]\n",
      " [27840. 26295.]\n",
      " ...\n",
      " [19450. 18990.]\n",
      " [18575. 16500.]\n",
      " [24451. 23990.]]\n"
     ]
    }
   ],
   "source": [
    "print(np.concatenate((y1_pred.reshape(len(y_pred),1),y_test.reshape(len(y_test),1)),1))"
   ]
  },
  {
   "cell_type": "code",
   "execution_count": 101,
   "id": "0024afbb",
   "metadata": {},
   "outputs": [
    {
     "name": "stdout",
     "output_type": "stream",
     "text": [
      "R2 Score test  0.935333764694106\n",
      "Mean Absolute Error test 1872.1680698739976\n"
     ]
    }
   ],
   "source": [
    "print('R2 Score test ', r2_score(y_test, y1_pred))\n",
    "print('Mean Absolute Error test', mean_absolute_error(y_test,y1_pred))\n"
   ]
  },
  {
   "cell_type": "code",
   "execution_count": 102,
   "id": "e54b22bc",
   "metadata": {},
   "outputs": [
    {
     "data": {
      "text/plain": [
       "array([12495., 16500., 11000., ..., 17199., 19499., 15999.])"
      ]
     },
     "metadata": {},
     "output_type": "display_data"
    }
   ],
   "source": [
    "display(dt_pred)"
   ]
  },
  {
   "cell_type": "code",
   "execution_count": 103,
   "id": "f2733a1f",
   "metadata": {},
   "outputs": [
    {
     "name": "stdout",
     "output_type": "stream",
     "text": [
      "R2 Score total 0.9869777290397849\n",
      "Mean Absolute Error total 418.20851612298463\n"
     ]
    }
   ],
   "source": [
    "print('R2 Score total', r2_score(y, dt_pred))\n",
    "print('Mean Absolute Error total', mean_absolute_error(y,dt_pred))"
   ]
  },
  {
   "cell_type": "code",
   "execution_count": 107,
   "id": "015aa344",
   "metadata": {},
   "outputs": [
    {
     "data": {
      "text/html": [
       "<style>#sk-container-id-5 {color: black;background-color: white;}#sk-container-id-5 pre{padding: 0;}#sk-container-id-5 div.sk-toggleable {background-color: white;}#sk-container-id-5 label.sk-toggleable__label {cursor: pointer;display: block;width: 100%;margin-bottom: 0;padding: 0.3em;box-sizing: border-box;text-align: center;}#sk-container-id-5 label.sk-toggleable__label-arrow:before {content: \"▸\";float: left;margin-right: 0.25em;color: #696969;}#sk-container-id-5 label.sk-toggleable__label-arrow:hover:before {color: black;}#sk-container-id-5 div.sk-estimator:hover label.sk-toggleable__label-arrow:before {color: black;}#sk-container-id-5 div.sk-toggleable__content {max-height: 0;max-width: 0;overflow: hidden;text-align: left;background-color: #f0f8ff;}#sk-container-id-5 div.sk-toggleable__content pre {margin: 0.2em;color: black;border-radius: 0.25em;background-color: #f0f8ff;}#sk-container-id-5 input.sk-toggleable__control:checked~div.sk-toggleable__content {max-height: 200px;max-width: 100%;overflow: auto;}#sk-container-id-5 input.sk-toggleable__control:checked~label.sk-toggleable__label-arrow:before {content: \"▾\";}#sk-container-id-5 div.sk-estimator input.sk-toggleable__control:checked~label.sk-toggleable__label {background-color: #d4ebff;}#sk-container-id-5 div.sk-label input.sk-toggleable__control:checked~label.sk-toggleable__label {background-color: #d4ebff;}#sk-container-id-5 input.sk-hidden--visually {border: 0;clip: rect(1px 1px 1px 1px);clip: rect(1px, 1px, 1px, 1px);height: 1px;margin: -1px;overflow: hidden;padding: 0;position: absolute;width: 1px;}#sk-container-id-5 div.sk-estimator {font-family: monospace;background-color: #f0f8ff;border: 1px dotted black;border-radius: 0.25em;box-sizing: border-box;margin-bottom: 0.5em;}#sk-container-id-5 div.sk-estimator:hover {background-color: #d4ebff;}#sk-container-id-5 div.sk-parallel-item::after {content: \"\";width: 100%;border-bottom: 1px solid gray;flex-grow: 1;}#sk-container-id-5 div.sk-label:hover label.sk-toggleable__label {background-color: #d4ebff;}#sk-container-id-5 div.sk-serial::before {content: \"\";position: absolute;border-left: 1px solid gray;box-sizing: border-box;top: 0;bottom: 0;left: 50%;z-index: 0;}#sk-container-id-5 div.sk-serial {display: flex;flex-direction: column;align-items: center;background-color: white;padding-right: 0.2em;padding-left: 0.2em;position: relative;}#sk-container-id-5 div.sk-item {position: relative;z-index: 1;}#sk-container-id-5 div.sk-parallel {display: flex;align-items: stretch;justify-content: center;background-color: white;position: relative;}#sk-container-id-5 div.sk-item::before, #sk-container-id-5 div.sk-parallel-item::before {content: \"\";position: absolute;border-left: 1px solid gray;box-sizing: border-box;top: 0;bottom: 0;left: 50%;z-index: -1;}#sk-container-id-5 div.sk-parallel-item {display: flex;flex-direction: column;z-index: 1;position: relative;background-color: white;}#sk-container-id-5 div.sk-parallel-item:first-child::after {align-self: flex-end;width: 50%;}#sk-container-id-5 div.sk-parallel-item:last-child::after {align-self: flex-start;width: 50%;}#sk-container-id-5 div.sk-parallel-item:only-child::after {width: 0;}#sk-container-id-5 div.sk-dashed-wrapped {border: 1px dashed gray;margin: 0 0.4em 0.5em 0.4em;box-sizing: border-box;padding-bottom: 0.4em;background-color: white;}#sk-container-id-5 div.sk-label label {font-family: monospace;font-weight: bold;display: inline-block;line-height: 1.2em;}#sk-container-id-5 div.sk-label-container {text-align: center;}#sk-container-id-5 div.sk-container {/* jupyter's `normalize.less` sets `[hidden] { display: none; }` but bootstrap.min.css set `[hidden] { display: none !important; }` so we also need the `!important` here to be able to override the default hidden behavior on the sphinx rendered scikit-learn.org. See: https://github.com/scikit-learn/scikit-learn/issues/21755 */display: inline-block !important;position: relative;}#sk-container-id-5 div.sk-text-repr-fallback {display: none;}</style><div id=\"sk-container-id-5\" class=\"sk-top-container\"><div class=\"sk-text-repr-fallback\"><pre>RandomForestRegressor(random_state=10)</pre><b>In a Jupyter environment, please rerun this cell to show the HTML representation or trust the notebook. <br />On GitHub, the HTML representation is unable to render, please try loading this page with nbviewer.org.</b></div><div class=\"sk-container\" hidden><div class=\"sk-item\"><div class=\"sk-estimator sk-toggleable\"><input class=\"sk-toggleable__control sk-hidden--visually\" id=\"sk-estimator-id-5\" type=\"checkbox\" checked><label for=\"sk-estimator-id-5\" class=\"sk-toggleable__label sk-toggleable__label-arrow\">RandomForestRegressor</label><div class=\"sk-toggleable__content\"><pre>RandomForestRegressor(random_state=10)</pre></div></div></div></div></div>"
      ],
      "text/plain": [
       "RandomForestRegressor(random_state=10)"
      ]
     },
     "metadata": {},
     "output_type": "display_data"
    }
   ],
   "source": [
    "from sklearn.ensemble import RandomForestRegressor\n",
    "rf = RandomForestRegressor(random_state=10)\n",
    "rf.fit(x_train,y_train)\n",
    "display (rf)\n"
   ]
  },
  {
   "cell_type": "code",
   "execution_count": 112,
   "id": "abb49190",
   "metadata": {},
   "outputs": [
    {
     "data": {
      "text/plain": [
       "array([26753.54, 16939.07, 27644.95, ..., 19860.45, 17283.17, 23715.51])"
      ]
     },
     "metadata": {},
     "output_type": "display_data"
    },
    {
     "data": {
      "text/plain": [
       "array([[28990],\n",
       "       [16890],\n",
       "       [26295],\n",
       "       ...,\n",
       "       [18990],\n",
       "       [16500],\n",
       "       [23990]], dtype=int64)"
      ]
     },
     "metadata": {},
     "output_type": "display_data"
    }
   ],
   "source": [
    "y2_pred = rf.predict(x_test)\n",
    "rf_pred=rf.predict(x)\n",
    "display(y2_pred)\n",
    "display(y_test)"
   ]
  },
  {
   "cell_type": "code",
   "execution_count": 113,
   "id": "54945461",
   "metadata": {},
   "outputs": [
    {
     "data": {
      "text/plain": [
       "array([[26753.54, 28990.  ],\n",
       "       [16939.07, 16890.  ],\n",
       "       [27644.95, 26295.  ],\n",
       "       ...,\n",
       "       [19860.45, 18990.  ],\n",
       "       [17283.17, 16500.  ],\n",
       "       [23715.51, 23990.  ]])"
      ]
     },
     "execution_count": 113,
     "metadata": {},
     "output_type": "execute_result"
    }
   ],
   "source": [
    "np.concatenate((y2_pred.reshape(len(y2_pred),1),y_test.reshape(len(y_test),1)),1)"
   ]
  },
  {
   "cell_type": "code",
   "execution_count": 114,
   "id": "4e16d5a0",
   "metadata": {},
   "outputs": [
    {
     "name": "stdout",
     "output_type": "stream",
     "text": [
      "R2 Score test  0.9600527756416679\n",
      "Mean Absolute Error test 1500.742236963924\n"
     ]
    }
   ],
   "source": [
    "print('R2 Score test ', r2_score(y_test, y2_pred))\n",
    "print('Mean Absolute Error test', mean_absolute_error(y_test,y2_pred))"
   ]
  },
  {
   "cell_type": "code",
   "execution_count": 115,
   "id": "66fda627",
   "metadata": {},
   "outputs": [
    {
     "name": "stdout",
     "output_type": "stream",
     "text": [
      "R2 Score test  0.9874498308077364\n",
      "Mean Absolute Error test 772.0425979929853\n"
     ]
    }
   ],
   "source": [
    "print('R2 Score test ', r2_score(y, rf_pred))\n",
    "print('Mean Absolute Error test', mean_absolute_error(y,rf_pred))"
   ]
  },
  {
   "cell_type": "code",
   "execution_count": 116,
   "id": "42dda027",
   "metadata": {},
   "outputs": [],
   "source": [
    "from sklearn import neighbors\n",
    "from sklearn.metrics import mean_squared_error \n",
    "from math import sqrt"
   ]
  },
  {
   "cell_type": "code",
   "execution_count": 117,
   "id": "7ee6b503",
   "metadata": {},
   "outputs": [
    {
     "name": "stdout",
     "output_type": "stream",
     "text": [
      "RMSE value for k=  1 is: 3062.5947385839754\n",
      "RMSE value for k=  2 is: 2874.049582117296\n",
      "RMSE value for k=  3 is: 2761.9315739178764\n",
      "RMSE value for k=  4 is: 2748.8798241635263\n",
      "RMSE value for k=  5 is: 2752.3926242987727\n",
      "RMSE value for k=  6 is: 2765.5343014262917\n",
      "RMSE value for k=  7 is: 2799.945997413555\n",
      "RMSE value for k=  8 is: 2763.6448713615373\n",
      "RMSE value for k=  9 is: 2832.3928611838364\n",
      "RMSE value for k=  10 is: 2869.726201370806\n",
      "RMSE value for k=  11 is: 2920.679788147894\n",
      "RMSE value for k=  12 is: 2977.3181155212287\n",
      "RMSE value for k=  13 is: 3031.5904797401477\n",
      "RMSE value for k=  14 is: 3059.715418449165\n",
      "RMSE value for k=  15 is: 3109.0298297391173\n",
      "RMSE value for k=  16 is: 3155.2254721984305\n",
      "RMSE value for k=  17 is: 3203.333278927144\n",
      "RMSE value for k=  18 is: 3248.608886859538\n",
      "RMSE value for k=  19 is: 3274.712009355196\n",
      "RMSE value for k=  20 is: 3306.3776381759667\n"
     ]
    }
   ],
   "source": [
    "rmse_val =[]\n",
    "for K in range(20):\n",
    "    K = K+1\n",
    "    model = neighbors.KNeighborsRegressor(n_neighbors = K)\n",
    "    model.fit(x_train, y_train)  #fit the model\n",
    "    pred=model.predict(x_test) #make prediction on test set\n",
    "    error = sqrt(mean_squared_error(y_test,pred)) #calculate rmse\n",
    "    rmse_val.append(error) #store rmse values\n",
    "    print('RMSE value for k= ' , K , 'is:', error)\n"
   ]
  },
  {
   "cell_type": "code",
   "execution_count": 118,
   "id": "6f029d64",
   "metadata": {},
   "outputs": [
    {
     "data": {
      "image/png": "[encoded data removed]",
      "text/plain": [
       "<Figure size 640x480 with 1 Axes>"
      ]
     },
     "metadata": {},
     "output_type": "display_data"
    }
   ],
   "source": [
    "plt.plot(range(1,21),rmse_val)\n",
    "plt.show()"
   ]
  },
  {
   "cell_type": "code",
   "execution_count": 123,
   "id": "eedd8e29",
   "metadata": {},
   "outputs": [
    {
     "data": {
      "text/plain": [
       "2748.8798241635263"
      ]
     },
     "execution_count": 123,
     "metadata": {},
     "output_type": "execute_result"
    }
   ],
   "source": [
    "min(rmse_val)"
   ]
  },
  {
   "cell_type": "code",
   "execution_count": 124,
   "id": "70cc692f",
   "metadata": {},
   "outputs": [
    {
     "data": {
      "text/plain": [
       "array([3], dtype=int64)"
      ]
     },
     "execution_count": 124,
     "metadata": {},
     "output_type": "execute_result"
    }
   ],
   "source": [
    "n = np.where(acc_val == max(acc_val))[0]\n",
    "n"
   ]
  },
  {
   "cell_type": "code",
   "execution_count": 120,
   "id": "49895c5d",
   "metadata": {},
   "outputs": [
    {
     "name": "stdout",
     "output_type": "stream",
     "text": [
      "Accuracy value for k=  1 is: 0.9273167906984308\n",
      "Accuracy value for k=  2 is: 0.935990631388822\n",
      "Accuracy value for k=  3 is: 0.94088729124688\n",
      "Accuracy value for k=  4 is: 0.9414446557640928\n",
      "Accuracy value for k=  5 is: 0.9412949041108754\n",
      "Accuracy value for k=  6 is: 0.9407329746928669\n",
      "Accuracy value for k=  7 is: 0.9392488726660835\n",
      "Accuracy value for k=  8 is: 0.940813930222065\n",
      "Accuracy value for k=  9 is: 0.9378326989431933\n",
      "Accuracy value for k=  10 is: 0.936183062812717\n",
      "Accuracy value for k=  11 is: 0.9338967333825504\n",
      "Accuracy value for k=  12 is: 0.9313081028800262\n",
      "Accuracy value for k=  13 is: 0.9287809624862382\n",
      "Accuracy value for k=  14 is: 0.9274533937221121\n",
      "Accuracy value for k=  15 is: 0.9250960347571093\n",
      "Accuracy value for k=  16 is: 0.9228535706956034\n",
      "Accuracy value for k=  17 is: 0.9204831290041209\n",
      "Accuracy value for k=  18 is: 0.9182194763506082\n",
      "Accuracy value for k=  19 is: 0.9168999555663022\n",
      "Accuracy value for k=  20 is: 0.9152850729685222\n"
     ]
    }
   ],
   "source": [
    "acc_val =[]\n",
    "for K in range(20):\n",
    "    K = K+1\n",
    "    model = neighbors.KNeighborsRegressor(n_neighbors = K)\n",
    "    model.fit(x_train, y_train)  #fit the model\n",
    "    pred=model.predict(x_test) #make prediction on test set\n",
    "    acc= r2_score (y_test,pred) #calculate accuracy\n",
    "    acc_val.append(acc) #store accuracy to list\n",
    "    print('Accuracy value for k= ' , K , 'is:', acc)"
   ]
  },
  {
   "cell_type": "code",
   "execution_count": 121,
   "id": "f9c8f8c2",
   "metadata": {},
   "outputs": [
    {
     "data": {
      "text/plain": [
       "0.9414446557640928"
      ]
     },
     "execution_count": 121,
     "metadata": {},
     "output_type": "execute_result"
    }
   ],
   "source": [
    "max(acc_val)"
   ]
  },
  {
   "cell_type": "code",
   "execution_count": 132,
   "id": "c6bccfc1",
   "metadata": {},
   "outputs": [
    {
     "name": "stdout",
     "output_type": "stream",
     "text": [
      "3\n"
     ]
    }
   ],
   "source": [
    "n = np.where(acc_val == max(acc_val))[0]\n",
    "k=n[0]\n",
    "print(k)"
   ]
  },
  {
   "cell_type": "code",
   "execution_count": 133,
   "id": "a4e67367",
   "metadata": {},
   "outputs": [
    {
     "name": "stdout",
     "output_type": "stream",
     "text": [
      "KNeighborsRegressor(n_neighbors=3)\n"
     ]
    }
   ],
   "source": [
    "knn = neighbors.KNeighborsRegressor(n_neighbors = k)\n",
    "knn.fit(x_train, y_train)\n",
    "print (knn)\n"
   ]
  },
  {
   "cell_type": "code",
   "execution_count": 134,
   "id": "83351342",
   "metadata": {},
   "outputs": [
    {
     "data": {
      "text/plain": [
       "array([[26926.66666667],\n",
       "       [15295.66666667],\n",
       "       [27260.        ],\n",
       "       ...,\n",
       "       [18577.33333333],\n",
       "       [17125.33333333],\n",
       "       [20030.        ]])"
      ]
     },
     "metadata": {},
     "output_type": "display_data"
    },
    {
     "data": {
      "text/plain": [
       "array([[28990],\n",
       "       [16890],\n",
       "       [26295],\n",
       "       ...,\n",
       "       [18990],\n",
       "       [16500],\n",
       "       [23990]], dtype=int64)"
      ]
     },
     "metadata": {},
     "output_type": "display_data"
    }
   ],
   "source": [
    "y3_pred = knn.predict(x_test)\n",
    "knn_pred=knn.predict(x)\n",
    "display(y3_pred)\n",
    "display(y_test)"
   ]
  },
  {
   "cell_type": "code",
   "execution_count": 136,
   "id": "911e61ea",
   "metadata": {},
   "outputs": [
    {
     "name": "stdout",
     "output_type": "stream",
     "text": [
      "R2 Score test  0.94088729124688\n",
      "Mean Absolute Error test 1746.4137769447048\n"
     ]
    }
   ],
   "source": [
    "print('R2 Score test ', r2_score(y_test, y3_pred))\n",
    "print('Mean Absolute Error test', mean_absolute_error(y_test,y3_pred))"
   ]
  },
  {
   "cell_type": "code",
   "execution_count": 137,
   "id": "514d3e01",
   "metadata": {},
   "outputs": [
    {
     "name": "stdout",
     "output_type": "stream",
     "text": [
      "R2 Score test  0.9674510134407576\n",
      "Mean Absolute Error test 1325.027152855893\n"
     ]
    }
   ],
   "source": [
    "print('R2 Score test ', r2_score(y, knn_pred))\n",
    "print('Mean Absolute Error test', mean_absolute_error(y,knn_pred))"
   ]
  },
  {
   "cell_type": "code",
   "execution_count": 151,
   "id": "34251dcb",
   "metadata": {},
   "outputs": [
    {
     "name": "stdout",
     "output_type": "stream",
     "text": [
      "[26648.08 16889.06 27309.29 ... 19541.44 16679.62 24531.38]\n",
      "[[28990]\n",
      " [16890]\n",
      " [26295]\n",
      " ...\n",
      " [18990]\n",
      " [16500]\n",
      " [23990]]\n"
     ]
    }
   ],
   "source": [
    "from sklearn.ensemble import  ExtraTreesRegressor\n",
    "et=ExtraTreesRegressor(random_state=10)\n",
    "et.fit(x_train,y_train)\n",
    "y4_pred=et.predict(x_test)\n",
    "et_pred=et.predict(x)\n",
    "print(y4_pred)\n",
    "print(y_test)"
   ]
  },
  {
   "cell_type": "code",
   "execution_count": 152,
   "id": "e54dec0d",
   "metadata": {},
   "outputs": [
    {
     "name": "stdout",
     "output_type": "stream",
     "text": [
      "R2 Score test  0.9580502505093127\n",
      "Mean Absolute Error test 1522.7173860902844\n"
     ]
    }
   ],
   "source": [
    "print('R2 Score test ', r2_score(y_test, y4_pred))\n",
    "print('Mean Absolute Error test', mean_absolute_error(y_test,y4_pred))"
   ]
  },
  {
   "cell_type": "code",
   "execution_count": 153,
   "id": "59524d25",
   "metadata": {},
   "outputs": [
    {
     "name": "stdout",
     "output_type": "stream",
     "text": [
      "R2 Score test  0.9912509135063048\n",
      "Mean Absolute Error test 348.41414424499027\n"
     ]
    }
   ],
   "source": [
    "print('R2 Score test ', r2_score(y, et_pred))\n",
    "print('Mean Absolute Error test', mean_absolute_error(y,et_pred))"
   ]
  },
  {
   "cell_type": "code",
   "execution_count": null,
   "id": "d619ff89",
   "metadata": {},
   "outputs": [],
   "source": []
  },
  {
   "cell_type": "code",
   "execution_count": null,
   "id": "be01706f",
   "metadata": {},
   "outputs": [],
   "source": []
  },
  {
   "cell_type": "code",
   "execution_count": null,
   "id": "44311377",
   "metadata": {},
   "outputs": [],
   "source": []
  },
  {
   "cell_type": "code",
   "execution_count": null,
   "id": "41f8e20a",
   "metadata": {},
   "outputs": [],
   "source": []
  }
 ],
 "metadata": {
  "kernelspec": {
   "display_name": "Python 3 (ipykernel)",
   "language": "python",
   "name": "python3"
  },
  "language_info": {
   "codemirror_mode": {
    "name": "ipython",
    "version": 3
   },
   "file_extension": ".py",
   "mimetype": "text/x-python",
   "name": "python",
   "nbconvert_exporter": "python",
   "pygments_lexer": "ipython3",
   "version": "3.11.3"
  }
 },
 "nbformat": 4,
 "nbformat_minor": 5
}
